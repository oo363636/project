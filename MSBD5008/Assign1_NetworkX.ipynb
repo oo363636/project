{
  "nbformat": 4,
  "nbformat_minor": 0,
  "metadata": {
    "colab": {
      "name": "5008assignment (1).ipynb",
      "provenance": [],
      "collapsed_sections": [],
      "include_colab_link": true
    },
    "kernelspec": {
      "name": "python3",
      "display_name": "Python 3"
    }
  },
  "cells": [
    {
      "cell_type": "markdown",
      "metadata": {
        "id": "view-in-github",
        "colab_type": "text"
      },
      "source": [
        "<a href=\"https://colab.research.google.com/github/oo363636/project/blob/master/assignment1_NetworkX.ipynb\" target=\"_parent\"><img src=\"https://colab.research.google.com/assets/colab-badge.svg\" alt=\"Open In Colab\"/></a>"
      ]
    },
    {
      "cell_type": "code",
      "metadata": {
        "id": "rLLA41fK2ojH",
        "outputId": "1d922d8d-08c4-43d9-bcd6-ad7a2e96187b",
        "colab": {
          "base_uri": "https://localhost:8080/"
        }
      },
      "source": [
        "from google.colab import drive\n",
        "drive.mount('/content/drive/')"
      ],
      "execution_count": null,
      "outputs": [
        {
          "output_type": "stream",
          "text": [
            "Mounted at /content/drive/\n"
          ],
          "name": "stdout"
        }
      ]
    },
    {
      "cell_type": "code",
      "metadata": {
        "id": "o-WJqP7Z8XIx"
      },
      "source": [
        "import numpy as np\n",
        "import matplotlib.pyplot as plt\n",
        "import matplotlib\n",
        "import networkx as nx"
      ],
      "execution_count": null,
      "outputs": []
    },
    {
      "cell_type": "markdown",
      "metadata": {
        "id": "cGSzidVVN_kn"
      },
      "source": [
        "1. Use the function nx.read edgelist() to load the dataset Wiki-Vote.txt."
      ]
    },
    {
      "cell_type": "code",
      "metadata": {
        "id": "WNjqRIfp4o52"
      },
      "source": [
        "path = '/content/drive/My Drive/Colab Notebooks/Wiki-Vote.txt'"
      ],
      "execution_count": null,
      "outputs": []
    },
    {
      "cell_type": "code",
      "metadata": {
        "id": "DYscnyfF8xvH",
        "outputId": "a1bba317-a005-4258-c370-0420356ffde9",
        "colab": {
          "base_uri": "https://localhost:8080/"
        }
      },
      "source": [
        "G = nx.read_edgelist(path=path, create_using=nx.DiGraph())\n",
        "print(G.number_of_edges())\n",
        "print(G.number_of_nodes())"
      ],
      "execution_count": null,
      "outputs": [
        {
          "output_type": "stream",
          "text": [
            "103689\n",
            "7115\n"
          ],
          "name": "stdout"
        }
      ]
    },
    {
      "cell_type": "markdown",
      "metadata": {
        "id": "jWkk_U5HOOLp"
      },
      "source": [
        "2. Output the following information related to degree"
      ]
    },
    {
      "cell_type": "markdown",
      "metadata": {
        "id": "IubtZZWd9tJc"
      },
      "source": [
        "2.1 average degree, average in-degree, average out-degree"
      ]
    },
    {
      "cell_type": "code",
      "metadata": {
        "id": "EIJznHnnNXRm",
        "outputId": "5b7e91de-9a85-4ed6-c874-95af88d0d99b",
        "colab": {
          "base_uri": "https://localhost:8080/"
        }
      },
      "source": [
        "total_edges = G.number_of_edges()\n",
        "total_nodes = G.number_of_nodes()\n",
        "average_degree = 2 * total_edges / total_nodes\n",
        "average_indegree = total_edges / total_nodes\n",
        "average_outdegree = total_edges / total_nodes\n",
        "print('average degree is : %s' %average_degree)\n",
        "print('average in_degree is : %s' %average_indegree)\n",
        "print('average out_degree is : %s' %average_outdegree)"
      ],
      "execution_count": null,
      "outputs": [
        {
          "output_type": "stream",
          "text": [
            "average degree is : 29.146591707659873\n",
            "average in_degree is : 14.573295853829936\n",
            "average out_degree is : 14.573295853829936\n"
          ],
          "name": "stdout"
        }
      ]
    },
    {
      "cell_type": "markdown",
      "metadata": {
        "id": "7UmspwG29zfX"
      },
      "source": [
        "2.2 degree distribution (plot both the degree and frequency in log scale)"
      ]
    },
    {
      "cell_type": "code",
      "metadata": {
        "id": "SFE27XqHCc_z"
      },
      "source": [
        "def distribution(Graph):\n",
        "  degree = nx.degree_histogram(Graph)\n",
        "  x = range(len(degree))\n",
        "  y = [z / float(sum(degree)) for z in degree]\n",
        "  plt.loglog(x, y, color='blue')\n",
        "  plt.xlabel('log(degree)')\n",
        "  plt.ylabel('log(frequency)')\n",
        "  plt.show()"
      ],
      "execution_count": null,
      "outputs": []
    },
    {
      "cell_type": "code",
      "metadata": {
        "id": "lzFSMXbYDIBY",
        "outputId": "4cfe3606-99dc-4072-a078-3308736fbefb",
        "colab": {
          "base_uri": "https://localhost:8080/",
          "height": 283
        }
      },
      "source": [
        "distribution(G)"
      ],
      "execution_count": null,
      "outputs": [
        {
          "output_type": "display_data",
          "data": {
            "image/png": "[encoded data removed]",
            "text/plain": [
              "<Figure size 432x288 with 1 Axes>"
            ]
          },
          "metadata": {
            "tags": [],
            "needs_background": "light"
          }
        }
      ]
    },
    {
      "cell_type": "markdown",
      "metadata": {
        "id": "NM_yZKkgD-C1"
      },
      "source": [
        "2.3 density (E/N2\n",
        "), where E is the number of edges, and N is the number of nodes"
      ]
    },
    {
      "cell_type": "code",
      "metadata": {
        "id": "2FeApP848-wn",
        "outputId": "76711aa0-ade2-4676-ef40-94e8521b95e5",
        "colab": {
          "base_uri": "https://localhost:8080/"
        }
      },
      "source": [
        "density = total_edges / np.square(total_nodes)\n",
        "print('density is :',density)"
      ],
      "execution_count": null,
      "outputs": [
        {
          "output_type": "stream",
          "text": [
            "density is : 0.002048249592948691\n"
          ],
          "name": "stdout"
        }
      ]
    },
    {
      "cell_type": "markdown",
      "metadata": {
        "id": "yPTbdKotSn3s"
      },
      "source": [
        "3. Find the largest strongly connected component (giant component), and output the number of nodes in it"
      ]
    },
    {
      "cell_type": "code",
      "metadata": {
        "id": "JRCSHnlrS1z4",
        "outputId": "fcb6fd16-170a-43fb-8739-a78a5dee424a",
        "colab": {
          "base_uri": "https://localhost:8080/"
        }
      },
      "source": [
        "giant_component = max(nx.strongly_connected_components(G), key=len)\n",
        "print('number of nodes in giant component is : ' ,len(giant_component))"
      ],
      "execution_count": null,
      "outputs": [
        {
          "output_type": "stream",
          "text": [
            "number of nodes in giant component is :  1300\n"
          ],
          "name": "stdout"
        }
      ]
    },
    {
      "cell_type": "markdown",
      "metadata": {
        "id": "73aJYgyXZ-Ey"
      },
      "source": [
        "4. Output the following information about this giant component related to distance and clustering"
      ]
    },
    {
      "cell_type": "code",
      "metadata": {
        "id": "gR3v7DljOd2b"
      },
      "source": [
        "G_SCC = nx.subgraph(G, giant_component)\n",
        "# print(G_SCC.number_of_nodes())\n",
        "# print(G_SCC.number_of_edges())"
      ],
      "execution_count": null,
      "outputs": []
    },
    {
      "cell_type": "markdown",
      "metadata": {
        "id": "MO_q6Ie3BmIw"
      },
      "source": [
        "4.1 distribution of path length"
      ]
    },
    {
      "cell_type": "code",
      "metadata": {
        "id": "ET7XeGwA5KPZ",
        "outputId": "91629816-0479-49e2-b705-9ccdb9e0f8ea",
        "colab": {
          "base_uri": "https://localhost:8080/"
        }
      },
      "source": [
        "# put all path length of each node in path_length\n",
        "path_length = []\n",
        "for i in G_SCC:\n",
        "  each_path = nx.single_source_shortest_path_length(G_SCC, i)\n",
        "\n",
        "  for j in each_path.values():\n",
        "    path_length.append(j)\n",
        "\n",
        "# create a dict , key is path length and value is corresponding number\n",
        "path_length_dic = {}\n",
        "for k in path_length:\n",
        "  if k in path_length_dic:\n",
        "    path_length_dic[k] += 1\n",
        "  else:\n",
        "    path_length_dic[k] = 1\n",
        "\n",
        "print('path length : number')\n",
        "\n",
        "path_length_list = []\n",
        "number = []\n",
        "\n",
        "for p, q in path_length_dic.items():\n",
        "  path_length_list.append(p)\n",
        "  number.append(q)\n",
        "  print(' '*6, p, ' '*4 , q)\n"
      ],
      "execution_count": null,
      "outputs": [
        {
          "output_type": "stream",
          "text": [
            "path length : number\n",
            "       0      1300\n",
            "       1      39456\n",
            "       2      517287\n",
            "       3      802724\n",
            "       4      277167\n",
            "       5      44366\n",
            "       6      5396\n",
            "       7      1411\n",
            "       8      745\n",
            "       9      148\n"
          ],
          "name": "stdout"
        }
      ]
    },
    {
      "cell_type": "code",
      "metadata": {
        "id": "VRK-Jd1faOsh",
        "outputId": "2137594d-b7a5-4131-b8c2-71c46a2c5d66",
        "colab": {
          "base_uri": "https://localhost:8080/",
          "height": 333
        }
      },
      "source": [
        "print(path_length_list)\n",
        "print(number)\n",
        "\n",
        "plt.bar(path_length_list, number)\n",
        "plt.xlabel('path length')\n",
        "plt.ylabel('number')"
      ],
      "execution_count": null,
      "outputs": [
        {
          "output_type": "stream",
          "text": [
            "[0, 1, 2, 3, 4, 5, 6, 7, 8, 9]\n",
            "[1300, 39456, 517287, 802724, 277167, 44366, 5396, 1411, 745, 148]\n"
          ],
          "name": "stdout"
        },
        {
          "output_type": "execute_result",
          "data": {
            "text/plain": [
              "Text(0, 0.5, 'number')"
            ]
          },
          "metadata": {
            "tags": []
          },
          "execution_count": 31
        },
        {
          "output_type": "display_data",
          "data": {
            "image/png": "[encoded data removed]",
            "text/plain": [
              "<Figure size 432x288 with 1 Axes>"
            ]
          },
          "metadata": {
            "tags": [],
            "needs_background": "light"
          }
        }
      ]
    },
    {
      "cell_type": "markdown",
      "metadata": {
        "id": "GErmLkGnBszU"
      },
      "source": [
        "4.2 average path length"
      ]
    },
    {
      "cell_type": "code",
      "metadata": {
        "id": "3jgh-aOaGxjK",
        "outputId": "f2ec9ac4-7297-4808-e03c-acdb5b5b0b49",
        "colab": {
          "base_uri": "https://localhost:8080/"
        }
      },
      "source": [
        "average_path_length = nx.average_shortest_path_length(G_SCC)\n",
        "print('average path length is : ', average_path_length)"
      ],
      "execution_count": null,
      "outputs": [
        {
          "output_type": "stream",
          "text": [
            "average path length is :  2.8792828803221413\n"
          ],
          "name": "stdout"
        }
      ]
    },
    {
      "cell_type": "markdown",
      "metadata": {
        "id": "39Z-FuhNHgd2"
      },
      "source": [
        "4.3 distribution of clustering coefficient"
      ]
    },
    {
      "cell_type": "code",
      "metadata": {
        "id": "LoYIhkFrDQ7n",
        "outputId": "a1ad1cb8-999d-4ba1-8d21-94f126154435",
        "colab": {
          "base_uri": "https://localhost:8080/",
          "height": 297
        }
      },
      "source": [
        "coefficient = []\n",
        "for i in giant_component:\n",
        "  each_coefficient = nx.clustering(G_SCC, i)\n",
        "  coefficient.append(each_coefficient)\n",
        "\n",
        "plt.hist(coefficient, color='blue', bins=100)\n",
        "plt.xlabel('coefficient')\n",
        "plt.ylabel('frequency')"
      ],
      "execution_count": null,
      "outputs": [
        {
          "output_type": "execute_result",
          "data": {
            "text/plain": [
              "Text(0, 0.5, 'frequency')"
            ]
          },
          "metadata": {
            "tags": []
          },
          "execution_count": 14
        },
        {
          "output_type": "display_data",
          "data": {
            "image/png": "[encoded data removed]",
            "text/plain": [
              "<Figure size 432x288 with 1 Axes>"
            ]
          },
          "metadata": {
            "tags": [],
            "needs_background": "light"
          }
        }
      ]
    },
    {
      "cell_type": "markdown",
      "metadata": {
        "id": "aaQGvBWTBw1r"
      },
      "source": [
        "4.4 average clustering coefficient"
      ]
    },
    {
      "cell_type": "code",
      "metadata": {
        "id": "ldkIAQ3O-1-i",
        "outputId": "5afc652b-515d-4242-f582-b784cdbe8d00",
        "colab": {
          "base_uri": "https://localhost:8080/"
        }
      },
      "source": [
        "average_clustering_coefficient = nx.average_clustering(G_SCC)\n",
        "print('average clustering coefficient is : ',average_clustering_coefficient)"
      ],
      "execution_count": null,
      "outputs": [
        {
          "output_type": "stream",
          "text": [
            "average clustering coefficient is :  0.182218301132536\n"
          ],
          "name": "stdout"
        }
      ]
    },
    {
      "cell_type": "markdown",
      "metadata": {
        "id": "B_jIB1EVHxAu"
      },
      "source": [
        "5. Treat the network as undirected. Output the following information related to degree"
      ]
    },
    {
      "cell_type": "code",
      "metadata": {
        "id": "aM6N3yYsH6rn"
      },
      "source": [
        "G_undi = G.to_undirected()"
      ],
      "execution_count": null,
      "outputs": []
    },
    {
      "cell_type": "markdown",
      "metadata": {
        "id": "bzMVF9dRIeEY"
      },
      "source": [
        "5.1 average degree"
      ]
    },
    {
      "cell_type": "code",
      "metadata": {
        "id": "VHrsYCiPIgfN",
        "outputId": "bfc5dba1-fa0b-49d7-b1c8-98c57e072b4d",
        "colab": {
          "base_uri": "https://localhost:8080/"
        }
      },
      "source": [
        "total_edges_undi = G_undi.number_of_edges()\n",
        "total_nodes_undi = G_undi.number_of_nodes()\n",
        "average_degree_undi = 2 * total_edges_undi / total_nodes_undi\n",
        "print('average degree is : %s' %average_degree_undi)"
      ],
      "execution_count": null,
      "outputs": [
        {
          "output_type": "stream",
          "text": [
            "average degree is : 28.32382290934645\n"
          ],
          "name": "stdout"
        }
      ]
    },
    {
      "cell_type": "markdown",
      "metadata": {
        "id": "bTZWmSkNJig3"
      },
      "source": [
        "5.2 degree distribution (plot both the degree and frequency in log scale)"
      ]
    },
    {
      "cell_type": "code",
      "metadata": {
        "id": "DrtWn0E_JlkI",
        "outputId": "ffb9870e-ac82-4675-e568-879fbacfbada",
        "colab": {
          "base_uri": "https://localhost:8080/",
          "height": 283
        }
      },
      "source": [
        "# use the function we defined before\n",
        "distribution(G_undi)"
      ],
      "execution_count": null,
      "outputs": [
        {
          "output_type": "display_data",
          "data": {
            "image/png": "[encoded data removed]",
            "text/plain": [
              "<Figure size 432x288 with 1 Axes>"
            ]
          },
          "metadata": {
            "tags": [],
            "needs_background": "light"
          }
        }
      ]
    },
    {
      "cell_type": "markdown",
      "metadata": {
        "id": "GbYpU8AnJ7jM"
      },
      "source": [
        "5.3 density (E/N2\n",
        ")"
      ]
    },
    {
      "cell_type": "code",
      "metadata": {
        "id": "MSfG1Ca4J-WR",
        "outputId": "08d3f8c5-a6a8-48e3-ece5-c875f438d9ce",
        "colab": {
          "base_uri": "https://localhost:8080/"
        }
      },
      "source": [
        "density_undi = total_edges_undi / np.square(total_nodes_undi)\n",
        "print('density is :',density_undi)"
      ],
      "execution_count": null,
      "outputs": [
        {
          "output_type": "stream",
          "text": [
            "density is : 0.001990430281753089\n"
          ],
          "name": "stdout"
        }
      ]
    },
    {
      "cell_type": "code",
      "metadata": {
        "id": "JWhR-jpqKq4O"
      },
      "source": [
        ""
      ],
      "execution_count": null,
      "outputs": []
    }
  ]
}
