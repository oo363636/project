{
  "nbformat": 4,
  "nbformat_minor": 0,
  "metadata": {
    "colab": {
      "name": "5008assignment2.ipynb",
      "provenance": [],
      "collapsed_sections": [],
      "include_colab_link": true
    },
    "kernelspec": {
      "name": "python3",
      "display_name": "Python 3"
    }
  },
  "cells": [
    {
      "cell_type": "markdown",
      "metadata": {
        "id": "view-in-github",
        "colab_type": "text"
      },
      "source": [
        "<a href=\"https://colab.research.google.com/github/oo363636/project/blob/master/5008assignment2.ipynb\" target=\"_parent\"><img src=\"https://colab.research.google.com/assets/colab-badge.svg\" alt=\"Open In Colab\"/></a>"
      ]
    },
    {
      "cell_type": "code",
      "metadata": {
        "id": "KbpGOoPYKDve",
        "outputId": "e80a92e2-095b-4482-99a8-51d52b18dc12",
        "colab": {
          "base_uri": "https://localhost:8080/"
        }
      },
      "source": [
        "from google.colab import drive\n",
        "drive.mount('/content/drive/')"
      ],
      "execution_count": null,
      "outputs": [
        {
          "output_type": "stream",
          "text": [
            "Drive already mounted at /content/drive/; to attempt to forcibly remount, call drive.mount(\"/content/drive/\", force_remount=True).\n"
          ],
          "name": "stdout"
        }
      ]
    },
    {
      "cell_type": "code",
      "metadata": {
        "id": "pFBKBeKZKax2",
        "outputId": "bd693f27-72c2-4edb-b296-1949c12a6a03",
        "colab": {
          "base_uri": "https://localhost:8080/"
        }
      },
      "source": [
        "!pip install dgl"
      ],
      "execution_count": null,
      "outputs": [
        {
          "output_type": "stream",
          "text": [
            "Requirement already satisfied: dgl in /usr/local/lib/python3.6/dist-packages (0.5.2)\n",
            "Requirement already satisfied: scipy>=1.1.0 in /usr/local/lib/python3.6/dist-packages (from dgl) (1.4.1)\n",
            "Requirement already satisfied: requests>=2.19.0 in /usr/local/lib/python3.6/dist-packages (from dgl) (2.23.0)\n",
            "Requirement already satisfied: networkx>=2.1 in /usr/local/lib/python3.6/dist-packages (from dgl) (2.5)\n",
            "Requirement already satisfied: numpy>=1.14.0 in /usr/local/lib/python3.6/dist-packages (from dgl) (1.18.5)\n",
            "Requirement already satisfied: idna<3,>=2.5 in /usr/local/lib/python3.6/dist-packages (from requests>=2.19.0->dgl) (2.10)\n",
            "Requirement already satisfied: certifi>=2017.4.17 in /usr/local/lib/python3.6/dist-packages (from requests>=2.19.0->dgl) (2020.6.20)\n",
            "Requirement already satisfied: chardet<4,>=3.0.2 in /usr/local/lib/python3.6/dist-packages (from requests>=2.19.0->dgl) (3.0.4)\n",
            "Requirement already satisfied: urllib3!=1.25.0,!=1.25.1,<1.26,>=1.21.1 in /usr/local/lib/python3.6/dist-packages (from requests>=2.19.0->dgl) (1.24.3)\n",
            "Requirement already satisfied: decorator>=4.3.0 in /usr/local/lib/python3.6/dist-packages (from networkx>=2.1->dgl) (4.4.2)\n"
          ],
          "name": "stdout"
        }
      ]
    },
    {
      "cell_type": "code",
      "metadata": {
        "id": "bCmg5C1ITJpt"
      },
      "source": [
        "import numpy as np\n",
        "import networkx as nx\n",
        "import pickle as pkl\n",
        "import dgl\n",
        "from dgl import DGLGraph\n",
        "from dgl.nn import GINConv\n",
        "import torch as th\n",
        "import torch.nn as nn\n",
        "import torch.nn.functional as F\n",
        "import dgl.function as fn"
      ],
      "execution_count": null,
      "outputs": []
    },
    {
      "cell_type": "code",
      "metadata": {
        "id": "KNDB-s_HKyRf",
        "outputId": "43d9cb07-0e86-4443-90f6-02deea9a2fa7",
        "colab": {
          "base_uri": "https://localhost:8080/"
        }
      },
      "source": [
        "dataset = pkl.load(open('/content/drive/My Drive/Colab Notebooks/hw_dataset.pkl', 'rb'))\n",
        "# np.set_printoptions(threshold=10)\n",
        "print('labels:',dataset['labels'])        # length 3327\n",
        "print('features:',dataset['features'])      # 3327 * 3703\n",
        "print('train_mask:',(dataset['train_mask']))   # length 3327 \n",
        "print('val_mask:',dataset['val_mask'])      # length 3327\n",
        "print('source_nodes',dataset['source_nodes'])   # length 12431\n",
        "print('target_nodes',dataset['target_nodes'])   # length 12431\n",
        "print('nodes:',dataset['nodes'])         # length 3327\n",
        "print('num_classes:',dataset['num_classes'])\n",
        "# print(dataset)"
      ],
      "execution_count": null,
      "outputs": [
        {
          "output_type": "stream",
          "text": [
            "labels: [4 1 5 ... 3 1 0]\n",
            "features: [[0. 0. 0. ... 0. 0. 0.]\n",
            " [0. 0. 0. ... 0. 0. 0.]\n",
            " [0. 0. 0. ... 0. 0. 0.]\n",
            " ...\n",
            " [0. 0. 0. ... 0. 0. 0.]\n",
            " [0. 0. 0. ... 0. 0. 0.]\n",
            " [0. 0. 0. ... 0. 0. 0.]]\n",
            "train_mask: [False, False, False, False, True, False, False, True, False, True, False, True, False, False, False, True, True, False, True, False, False, True, False, False, False, False, False, False, False, True, False, False, True, False, True, False, False, True, False, True, False, False, False, False, False, True, False, True, False, True, True, False, False, False, False, True, True, False, True, False, True, False, True, False, False, False, False, False, False, True, True, True, True, False, False, False, False, True, False, True, True, True, True, True, False, False, True, False, False, False, False, False, True, False, True, False, False, True, True, False, False, False, True, False, False, False, False, False, True, True, True, True, False, True, False, False, False, False, False, False, False, True, False, False, False, True, True, False, False, False, True, False, False, True, True, True, True, True, False, False, True, False, True, False, False, True, True, False, False, True, False, True, True, True, True, False, True, False, True, False, False, True, True, False, False, True, True, True, True, False, True, False, True, False, False, True, False, True, False, False, False, False, True, False, False, True, False, False, False, False, False, False, False, True, False, True, True, True, True, True, False, False, True, False, False, True, False, False, False, True, False, False, True, False, False, True, False, False, False, True, False, False, False, True, True, False, True, False, True, True, False, False, True, True, False, True, True, False, True, False, False, True, True, True, False, True, True, False, False, False, False, True, False, True, True, False, False, True, False, False, True, True, True, False, True, False, False, True, True, False, False, True, False, False, True, False, False, False, False, False, True, False, True, False, True, False, True, False, True, False, False, False, False, True, False, True, True, True, True, False, True, True, True, False, True, True, False, True, True, False, False, True, True, False, False, False, True, False, False, True, True, True, False, True, False, True, False, True, False, False, False, True, False, True, False, False, False, False, True, False, False, False, True, False, False, False, False, True, False, False, True, True, True, True, False, True, False, False, False, True, True, False, True, False, True, False, True, False, False, False, False, False, True, False, True, True, False, False, True, True, False, False, False, False, False, False, False, False, True, True, True, True, False, False, False, False, True, False, False, False, True, False, False, False, True, False, False, True, False, False, False, False, True, True, False, True, False, True, True, True, False, False, False, False, False, True, False, True, True, False, False, False, False, False, False, True, False, False, False, False, True, True, True, False, False, True, True, False, False, False, True, True, False, True, False, False, True, True, False, False, False, True, True, True, False, True, False, True, False, False, True, True, False, True, False, True, False, False, True, True, False, False, True, False, True, True, True, False, True, False, False, False, False, True, False, True, False, False, False, False, False, True, False, True, False, True, True, True, False, False, True, False, False, True, True, True, False, False, False, False, False, False, False, True, True, False, False, False, False, False, True, True, False, False, True, True, False, False, False, False, True, False, True, False, False, False, False, False, False, False, True, False, True, False, True, True, False, False, True, True, False, False, False, False, False, True, True, True, True, True, True, False, False, True, True, False, False, True, False, True, False, True, False, False, True, True, True, False, True, False, True, False, False, True, False, True, False, False, True, False, False, True, False, True, True, True, False, True, True, True, True, False, True, True, False, False, True, True, False, False, False, False, False, False, False, False, False, False, False, False, False, False, False, False, False, False, False, False, False, False, False, False, False, False, False, False, False, False, False, False, False, False, False, False, False, False, False, False, False, False, False, False, False, False, False, False, False, False, False, False, False, False, False, False, False, False, False, False, False, False, False, False, False, False, False, False, False, False, False, False, False, False, False, False, False, False, False, False, False, False, False, False, False, False, False, False, False, False, False, False, False, False, False, False, False, False, False, False, False, False, False, False, False, False, False, False, False, False, False, False, False, False, False, False, False, False, False, False, False, False, False, False, False, False, False, False, False, False, False, False, False, False, False, False, False, False, False, False, False, False, False, False, False, False, False, False, False, False, False, False, False, False, False, False, False, False, False, False, False, False, False, False, False, False, False, False, False, False, False, False, False, False, False, False, False, False, False, False, False, False, False, False, False, False, False, False, False, False, False, False, False, False, False, False, False, False, False, False, False, False, False, False, False, False, False, False, False, False, False, False, False, False, False, False, False, False, False, False, False, False, False, False, False, False, False, False, False, False, False, False, False, False, False, False, False, False, False, False, False, False, False, False, False, False, False, False, False, False, False, False, False, False, False, False, False, False, False, False, False, False, False, False, False, False, False, False, False, False, False, False, False, False, False, False, False, False, False, False, False, False, False, False, False, False, False, False, False, False, False, False, False, False, False, False, False, False, False, False, False, False, False, False, False, False, False, False, False, False, False, False, False, False, False, False, False, False, False, False, False, False, False, False, False, False, False, False, False, False, False, False, False, False, False, False, False, False, False, False, False, False, False, False, False, False, False, False, False, False, False, False, False, False, False, False, False, False, False, False, False, False, False, False, False, False, False, False, False, False, False, False, False, False, False, False, False, False, False, False, False, False, False, False, False, False, False, False, False, False, False, False, False, False, False, False, False, False, False, False, False, False, False, False, False, False, False, False, False, False, False, False, False, False, False, False, False, False, False, False, False, False, False, False, False, False, False, False, False, False, False, False, False, False, False, False, False, False, False, False, False, False, False, False, False, False, False, False, False, False, False, False, False, False, False, False, False, False, False, False, False, False, False, False, False, False, False, False, False, False, False, False, False, False, False, False, False, False, False, False, False, False, False, False, False, False, False, False, False, False, False, False, False, False, False, False, False, False, False, False, False, False, False, False, False, False, False, False, False, False, False, False, False, False, False, False, False, False, False, False, False, False, False, False, False, False, False, False, False, False, False, False, False, False, False, False, False, False, False, False, False, False, False, False, False, False, False, False, False, False, False, False, False, False, False, False, False, False, False, False, False, False, False, False, False, False, False, False, False, False, False, False, False, False, False, False, False, False, False, False, False, False, False, False, False, False, False, False, False, False, False, False, False, False, False, False, False, False, False, False, False, False, False, False, False, False, False, False, False, False, False, False, False, False, False, False, False, False, False, False, False, False, False, False, False, False, False, False, False, False, False, False, False, False, False, False, False, False, False, False, False, False, False, False, False, False, False, False, False, False, False, False, False, False, False, False, False, False, False, False, False, False, False, False, False, False, False, False, False, False, False, False, False, False, False, False, False, False, False, False, False, False, False, False, False, False, False, False, False, False, False, False, False, False, False, False, False, False, False, False, False, False, False, False, False, False, False, False, False, False, False, False, False, False, False, False, False, False, False, False, False, False, False, False, False, False, False, False, False, False, False, False, False, False, False, False, False, False, False, False, False, False, False, False, False, False, False, False, False, False, False, False, False, False, False, False, False, False, False, False, False, False, False, False, False, False, False, False, False, False, False, False, False, False, False, False, False, False, False, False, False, False, False, False, False, False, False, False, False, False, False, False, False, False, False, False, False, False, False, False, False, False, False, False, False, False, False, False, False, False, False, False, False, False, False, False, False, False, False, False, False, False, False, False, False, False, False, False, False, False, False, False, False, False, False, False, False, False, False, False, False, False, False, False, False, False, False, False, False, False, False, False, False, False, False, False, False, False, False, False, False, False, False, False, False, False, False, False, False, False, False, False, False, False, False, False, False, False, False, False, False, False, False, False, False, False, False, False, False, False, False, False, False, False, False, False, False, False, False, False, False, False, False, False, False, False, False, False, False, False, False, False, False, False, False, False, False, False, False, False, False, False, False, False, False, False, False, False, False, False, False, False, False, False, False, False, False, False, False, False, False, False, False, False, False, False, False, False, False, False, False, False, False, False, False, False, False, False, False, False, False, False, False, False, False, False, False, False, False, False, False, False, False, False, False, False, False, False, False, False, False, False, False, False, False, False, False, False, False, False, False, False, False, False, False, False, False, False, False, False, False, False, False, False, False, False, False, False, False, False, False, False, False, False, False, False, False, False, False, False, False, False, False, False, False, False, False, False, False, False, False, False, False, False, False, False, False, False, False, False, False, False, False, False, False, False, False, False, False, False, False, False, False, False, False, False, False, False, False, False, False, False, False, False, False, False, False, False, False, False, False, False, False, False, False, False, False, False, False, False, False, False, False, False, False, False, False, False, False, False, False, False, False, False, False, False, False, False, False, False, False, False, False, False, False, False, False, False, False, False, False, False, False, False, False, False, False, False, False, False, False, False, False, False, False, False, False, False, False, False, False, False, False, False, False, False, False, False, False, False, False, False, False, False, False, False, False, False, False, False, False, False, False, False, False, False, False, False, False, False, False, False, False, False, False, False, False, False, False, False, False, False, False, False, False, False, False, False, False, False, False, False, False, False, False, False, False, False, False, False, False, False, False, False, False, False, False, False, False, False, False, False, False, False, False, False, False, False, False, False, False, False, False, False, False, False, False, False, False, False, False, False, False, False, False, False, False, False, False, False, False, False, False, False, False, False, False, False, False, False, False, False, False, False, False, False, False, False, False, False, False, False, False, False, False, False, False, False, False, False, False, False, False, False, False, False, False, False, False, False, False, False, False, False, False, False, False, False, False, False, False, False, False, False, False, False, False, False, False, False, False, False, False, False, False, False, False, False, False, False, False, False, False, False, False, False, False, False, False, False, False, False, False, False, False, False, False, False, False, False, False, False, False, False, False, False, False, False, False, False, False, False, False, False, False, False, False, False, False, False, False, False, False, False, False, False, False, False, False, False, False, False, False, False, False, False, False, False, False, False, False, False, False, False, False, False, False, False, False, False, False, False, False, False, False, False, False, False, False, False, False, False, False, False, False, False, False, False, False, False, False, False, False, False, False, False, False, False, False, False, False, False, False, False, False, False, False, False, False, False, False, False, False, False, False, False, False, False, False, False, False, False, False, False, False, False, False, False, False, False, False, False, False, False, False, False, False, False, False, False, False, False, False, False, False, False, False, False, False, False, False, False, False, False, False, False, False, False, False, False, False, False, False, False, False, False, False, False, False, False, False, False, False, False, False, False, False, False, False, False, False, False, False, False, False, False, False, False, False, False, False, False, False, False, False, False, False, False, False, False, False, False, False, False, False, False, False, False, False, False, False, False, False, False, False, False, False, False, False, False, False, False, False, False, False, False, False, False, False, False, False, False, False, False, False, False, False, False, False, False, False, False, False, False, False, False, False, False, False, False, False, False, False, False, False, False, False, False, False, False, False, False, False, False, False, False, False, False, False, False, False, False, False, False, False, False, False, False, False, False, False, False, False, False, False, False, False, False, False, False, False, False, False, False, False, False, False, False, False, False, False, False, False, False, False, False, False, False, False, False, False, False, False, False, False, False, False, False, False, False, False, False, False, False, False, False, False, False, False, False, False, False, False, False, False, False, False, False, False, False, False, False, False, False, False, False, False, False, False, False, False, False, False, False, False, False, False, False, False, False, False, False, False, False, False, False, False, False, False, False, False, False, False, False, False, False, False, False, False, False, False, False, False, False, False, False, False, False, False, False, False, False, False, False, False, True, False, True, False, False, True, False, True, True, False, False, False, True, True, True, True, True, True, True, True, False, False, True, True, False, False, True, True, False, True, True, True, False, False, True, False, True, False, False, False, True, True, False, False, False, False, False, True, False, False, True, False, False, True, False, False, False, True, False, False, False, False, False, False, False, True, True, False, False, False, False, False, False, True, False, False, False, False, False, True, False, False, False, False, True, True, False, True, True, True, False, True, False, True, False, False, False, False, False, True, False, True, False, True, True, True, False, False, False, False, False, False, False, False, False, False, True, True, False, False, False, False, False, True, False, True, False, True, False, True, True, True, False, False, False, False, True, False, True, False, True, False, False, False, False, True, True, False, False, True, False, True, False, False, False, False, False, False, True, False, False, False, False, False, True, False, True, False, True, True, True, False, False, False, True, False, False, False, False, False, False, False, False, True, False, False, False, True, True, True, False, False, True, False, False, False, False, False, False, False, False, False, False, False, True, True, True, False, False, False, True, False, True, False, True, False, True, False, True, True, True, True, False, True, True, False, True, True, False, False, False, False, True, False, False, False, True, False, False, False, False, False, False, False, False, True, False, False, True, True, False, True, False, True, True, True, True, False, False, True, False, False, True, False, False, False, True, False, False, False, True, False, False, True, False, False, False, True, False, True, True, False, False, False, True, False, False, False, False, False, True, True, False, False, False, False, True, True, True, True, False, False, True, False, False, False, False, True, False, True, True, False, False, False, False, False, False, False, True, False, True, True, True, True, False, False, False, False, True, True, False, False, True, False, True, False, False, False, False, False, False, True, True, False, False, False, False, True, True, False, False, True, True, False, True, False, False, True, False, False, True, False, True, True, True, True, False, True, True, False, False, True, False, False, False, True, True, True, False, True, False, False, True, False, False, False, True, False, False, True, True, False, False, False, False, False, False, True, True, False, False, True, True, True, True, False, False, False, False, False, False, False, False, True, True, False, True, False, False, False, False, True, True, True, False, True, True, False, False, False, False, True, True, False, True, True, False, False, False, True, True, False, False, False, True, False, False, True, True, False, True, False, False, False, True, True, True, False, False, False, True, True, False, False, False, False, False, True, False, False, True, False, True, False, False, True, True, False, False, False, False, False, False, True, False, False, False, False, True, True, True, True, True, False, False, True, False, True, False, True, False, False, False, False, False, False, True, False, True, True, False, False, True, True, False, False, False, False, True, False, False, True, True, False, False, False, True, True, False, True, True, False, False, True, False, False, False, False, True, False, False, True, False, True, True, False, False, True, False, True, True, False, True, False, False, False, True, False, False, False, True, False, True, False, True, False, True, False, False, False, True, False, False, True, True, False, True, True, True, True, True, False, False, True, False, True, False, True, False, True, False, True, True, True, False, False, True, True, False, True, False, False, False, False, True, False, True, False, False, False, False, True, False, False, False, False, False, True, True, False, True, False, True, False, True, False, True, False, False, False, False, False, False, True, False, True, True, True, True, False, False, True, False, True, False, True, True, True, True, False, True, False, False, False, False, True, True, True, True, False, False, False, True, True, False, True, True, False, False, True, False, False, False, True, False, False, True, True, False, False, False, False, False, False, False, False, True, False, True, False, True, True, False, False, True, False, False, True, True, False, False, False, True, False, True, False, False, False, False, True, True, True, True, False, True, False, False, False, True, False, True, True, True, False, False, False, True, False, False, False, False, True, False, False, False, False, False, True, False, False, False, True, True, False, False, False, False, False, True, False, False, False, False, False, False, False, False, True, False, False, False, False, True, False, True, False, False, True, True, True, False, False, False, True, False, True, True, False, False, False, False, True, True, True, False, True, False, False, False, False, True, False, False, False, True, True, False, True, False, False, True, False, True, False, False, False, True, True, False, False, True, True, False, True, False, True, False, True, False, False, False, False, True, False, False, False, False, False, True, False, False, False, True, True, True, False, False, False, True, False, False, True, False, True, True, False, False, False, True, True, False, False, False, False, True, False, False, True, True, False, True, True, False, False, False, False, False, False, False, False, False, True, False, False, False, True, False, True, True, True, False, True, True, False, True, False, False, False, False, False, True, True, True, True, True, True, False, False, False, False, False, False, False, False, False, True, False, True, False, False, True, False, False, False, True, False, True, False, False, True, False, False, True, False, False, False, True, True, True, True, False, False, True, False, True, False, True, False, True, True, False, False, False, True, True, True, False, False, False, False, True, False, True, True, False, False, False, False, True, False, False, False, True, False, False, False, True, False, False, False, False, False, False, True, False, False, True, False, False, False, False, True, False, False, False, False, False, True, True, False, False, True, False, False, True, False, False, False, True, False, False, False, True, False, False, True, True, False, True, True, False, True, True, False]\n",
            "val_mask: [False, True, True, False, False, True, True, False, True, False, False, False, False, False, True, False, False, False, False, True, False, False, False, True, True, False, False, True, False, False, True, True, False, False, False, False, True, False, True, False, False, True, False, False, True, False, True, False, False, False, False, True, False, False, True, False, False, False, False, False, False, False, False, True, True, False, False, False, True, False, False, False, False, True, True, False, False, False, False, False, False, False, False, False, True, False, False, False, False, False, False, True, False, True, False, False, False, False, False, False, True, True, False, True, True, False, False, False, False, False, False, False, False, False, True, False, True, False, True, True, True, False, False, False, True, False, False, False, False, True, False, False, True, False, False, False, False, False, False, True, False, False, False, False, True, False, False, True, True, False, False, False, False, False, False, True, False, False, False, True, False, False, False, True, False, False, False, False, False, False, False, False, False, True, False, False, False, False, False, False, False, False, False, True, False, False, True, True, False, False, False, True, True, False, False, False, False, False, False, False, True, False, False, True, True, False, True, True, False, False, True, False, False, True, False, False, False, True, False, False, False, True, False, False, False, True, False, False, False, False, False, True, False, False, False, False, False, True, False, True, True, False, False, False, False, False, False, True, True, False, False, False, False, False, False, True, True, False, False, False, False, False, False, True, False, True, True, False, False, True, False, False, True, False, False, False, False, False, False, True, False, False, False, True, False, False, False, False, False, False, True, False, True, False, False, False, False, False, False, False, False, False, False, True, False, False, True, False, False, True, False, False, False, False, False, False, False, True, True, False, False, False, True, False, False, False, False, False, True, True, True, False, False, False, True, False, True, False, False, False, True, False, False, True, False, True, True, False, False, True, False, False, False, False, True, False, True, True, False, False, False, True, False, False, False, True, False, True, False, True, False, False, False, False, False, False, True, True, False, False, False, True, True, True, True, True, False, False, False, False, False, False, True, True, False, False, False, False, False, False, False, True, True, False, False, False, True, False, False, True, True, False, False, False, True, False, False, False, False, False, True, False, True, False, True, False, False, False, False, True, True, True, True, False, False, False, False, True, True, True, False, False, False, False, True, False, False, True, False, True, False, False, False, False, False, True, False, False, True, False, False, False, False, False, True, False, False, False, True, False, False, False, False, False, True, False, True, False, False, False, True, False, False, True, False, False, False, True, False, True, True, True, True, False, False, False, False, True, False, True, False, False, False, False, False, False, False, False, False, True, False, True, True, False, False, False, True, True, False, True, True, True, True, False, False, False, False, True, True, True, False, False, True, True, False, False, False, False, True, True, False, False, False, False, False, False, True, True, False, False, False, False, False, True, False, False, False, True, False, False, True, True, True, False, True, False, False, False, False, False, False, True, False, False, False, True, True, False, False, False, True, False, True, False, False, False, False, False, False, False, False, False, True, False, True, False, False, False, False, True, True, False, True, False, False, False, False, False, False, False, False, False, False, False, True, True, False, False, True, True, False, False, False, False, False, False, False, False, False, False, False, False, False, False, False, False, False, False, False, False, False, False, False, False, False, False, False, False, False, False, False, False, False, False, False, False, False, False, False, False, False, False, False, False, False, False, False, False, False, False, False, False, False, False, False, False, False, False, False, False, False, False, False, False, False, False, False, False, False, False, False, False, False, False, False, False, False, False, False, False, False, False, False, False, False, False, False, False, False, False, False, False, False, False, False, False, False, False, False, False, False, False, False, False, False, False, False, False, False, False, False, False, False, False, False, False, False, False, False, False, False, False, False, False, False, False, False, False, False, False, False, False, False, False, False, False, False, False, False, False, False, False, False, False, False, False, False, False, False, False, False, False, False, False, False, False, False, False, False, False, False, False, False, False, False, False, False, False, False, False, False, False, False, False, False, False, False, False, False, False, False, False, False, False, False, False, False, False, False, False, False, False, False, False, False, False, False, False, False, False, False, False, False, False, False, False, False, False, False, False, False, False, False, False, False, False, False, False, False, False, False, False, False, False, False, False, False, False, False, False, False, False, False, False, False, False, False, False, False, False, False, False, False, False, False, False, False, False, False, False, False, False, False, False, False, False, False, False, False, False, False, False, False, False, False, False, False, False, False, False, False, False, False, False, False, False, False, False, False, False, False, False, False, False, False, False, False, False, False, False, False, False, False, False, False, False, False, False, False, False, False, False, False, False, False, False, False, False, False, False, False, False, False, False, False, False, False, False, False, False, False, False, False, False, False, False, False, False, False, False, False, False, False, False, False, False, False, False, False, False, False, False, False, False, False, False, False, False, False, False, False, False, False, False, False, False, False, False, False, False, False, False, False, False, False, False, False, False, False, False, False, False, False, False, False, False, False, False, False, False, False, False, False, False, False, False, False, False, False, False, False, False, False, False, False, False, False, False, False, False, False, False, False, False, False, False, False, False, False, False, False, False, False, False, False, False, False, False, False, False, False, False, False, False, False, False, False, False, False, False, False, False, False, False, False, False, False, False, False, False, False, False, False, False, False, False, False, False, False, False, False, False, False, False, False, False, False, False, False, False, False, False, False, False, False, False, False, False, False, False, False, False, False, False, False, False, False, False, False, False, False, False, False, False, False, False, False, False, False, False, False, False, False, False, False, False, False, False, False, False, False, False, False, False, False, False, False, False, False, False, False, False, False, False, False, False, False, False, False, False, False, False, False, False, False, False, False, False, False, False, False, False, False, False, False, False, False, False, False, False, False, False, False, False, False, False, False, False, False, False, False, False, False, False, False, False, False, False, False, False, False, False, False, False, False, False, False, False, False, False, False, False, False, False, False, False, False, False, False, False, False, False, False, False, False, False, False, False, False, False, False, False, False, False, False, False, False, False, False, False, False, False, False, False, False, False, False, False, False, False, False, False, False, False, False, False, False, False, False, False, False, False, False, False, False, False, False, False, False, False, False, False, False, False, False, False, False, False, False, False, False, False, False, False, False, False, False, False, False, False, False, False, False, False, False, False, False, False, False, False, False, False, False, False, False, False, False, False, False, False, False, False, False, False, False, False, False, False, False, False, False, False, False, False, False, False, False, False, False, False, False, False, False, False, False, False, False, False, False, False, False, False, False, False, False, False, False, False, False, False, False, False, False, False, False, False, False, False, False, False, False, False, False, False, False, False, False, False, False, False, False, False, False, False, False, False, False, False, False, False, False, False, False, False, False, False, False, False, False, False, False, False, False, False, False, False, False, False, False, False, False, False, False, False, False, False, False, False, False, False, False, False, False, False, False, False, False, False, False, False, False, False, False, False, False, False, False, False, False, False, False, False, False, False, False, False, False, False, False, False, False, False, False, False, False, False, False, False, False, False, False, False, False, False, False, False, False, False, False, False, False, False, False, False, False, False, False, False, False, False, False, False, False, False, False, False, False, False, False, False, False, False, False, False, False, False, False, False, False, False, False, False, False, False, False, False, False, False, False, False, False, False, False, False, False, False, False, False, False, False, False, False, False, False, False, False, False, False, False, False, False, False, False, False, False, False, False, False, False, False, False, False, False, False, False, False, False, False, False, False, False, False, False, False, False, False, False, False, False, False, False, False, False, False, False, False, False, False, False, False, False, False, False, False, False, False, False, False, False, False, False, False, False, False, False, False, False, False, False, False, False, False, False, False, False, False, False, False, False, False, False, False, False, False, False, False, False, False, False, False, False, False, False, False, False, False, False, False, False, False, False, False, False, False, False, False, False, False, False, False, False, False, False, False, False, False, False, False, False, False, False, False, False, False, False, False, False, False, False, False, False, False, False, False, False, False, False, False, False, False, False, False, False, False, False, False, False, False, False, False, False, False, False, False, False, False, False, False, False, False, False, False, False, False, False, False, False, False, False, False, False, False, False, False, False, False, False, False, False, False, False, False, False, False, False, False, False, False, False, False, False, False, False, False, False, False, False, False, False, False, False, False, False, False, False, False, False, False, False, False, False, False, False, False, False, False, False, False, False, False, False, False, False, False, False, False, False, False, False, False, False, False, False, False, False, False, False, False, False, False, False, False, False, False, False, False, False, False, False, False, False, False, False, False, False, False, False, False, False, False, False, False, False, False, False, False, False, False, False, False, False, False, False, False, False, False, False, False, False, False, False, False, False, False, False, False, False, False, False, False, False, False, False, False, False, False, False, False, False, False, False, False, False, False, False, False, False, False, False, False, False, False, False, False, False, False, False, False, False, False, False, False, False, False, False, False, False, False, False, False, False, False, False, False, False, False, False, False, False, False, False, False, False, False, False, False, False, False, False, False, False, False, False, False, False, False, False, False, False, False, False, False, False, False, False, False, False, False, False, False, False, False, False, False, False, False, False, False, False, False, False, False, False, False, False, False, False, False, False, False, False, False, False, False, False, False, False, False, False, False, False, False, False, False, False, False, False, False, False, False, False, False, False, False, False, False, False, False, False, False, False, False, False, False, False, False, False, False, False, False, False, False, False, False, False, False, False, False, False, False, False, False, False, False, False, False, False, False, False, False, False, False, False, False, False, False, False, False, False, False, False, False, False, False, False, False, False, False, False, False, False, False, False, False, False, False, False, False, False, False, False, False, False, False, False, False, False, False, False, False, False, False, False, False, False, False, False, False, False, False, False, False, False, False, False, False, False, False, False, False, False, False, False, False, False, False, False, False, False, False, False, False, False, False, False, False, False, False, False, False, False, False, False, False, False, False, False, False, False, False, False, False, False, False, False, False, False, False, False, False, False, False, False, False, False, False, False, False, False, False, False, False, False, False, False, False, False, False, False, False, False, False, False, False, False, False, False, False, False, False, False, False, False, False, False, False, False, False, False, False, False, False, False, False, False, False, False, False, False, False, False, False, False, False, False, False, False, False, False, False, False, False, False, False, False, False, False, False, False, False, False, False, False, False, False, False, False, False, False, False, False, False, False, False, False, False, False, False, False, False, False, False, False, False, False, False, False, False, False, False, False, False, False, False, False, False, False, False, False, False, False, False, False, False, False, False, False, False, False, False, False, False, False, False, False, False, False, False, False, False, False, False, False, False, False, False, False, False, False, False, False, False, False, False, False, False, False, False, False, False, False, False, False, False, False, False, False, False, False, False, False, False, False, False, False, False, False, False, False, False, False, False, False, False, False, False, False, False, False, False, False, False, False, False, False, False, False, False, False, False, False, False, False, False, False, False, False, False, False, False, False, False, False, False, False, False, False, False, False, False, False, False, False, False, False, False, False, False, False, False, False, False, False, False, False, False, False, False, False, False, False, False, False, False, False, False, False, False, False, False, False, False, False, False, False, False, False, False, False, False, False, False, False, False, False, False, False, False, False, False, False, False, False, False, False, False, False, False, False, False, False, False, False, False, False, False, False, True, False, False, False, False, True, True, True, False, False, False, False, False, False, False, False, True, True, False, False, False, False, False, False, False, False, False, False, True, True, False, False, False, True, False, False, False, False, True, False, False, True, False, False, True, True, False, True, True, False, True, True, False, False, True, False, True, True, False, True, False, False, False, False, True, False, False, True, True, False, True, False, False, False, True, False, True, False, False, False, False, False, True, False, False, False, True, False, False, False, False, False, True, True, True, False, False, False, False, False, False, False, True, False, True, True, False, True, False, True, False, True, False, False, False, True, False, False, False, False, False, False, True, False, True, False, False, False, True, True, False, False, False, False, False, True, False, True, False, True, True, False, False, False, False, False, False, False, True, False, True, False, False, True, False, False, True, True, True, False, False, True, False, False, False, False, False, False, True, False, False, False, False, True, False, False, False, False, False, False, False, True, True, False, False, False, True, False, False, True, True, True, False, True, True, True, True, True, True, True, False, False, False, False, False, False, False, False, False, False, False, False, False, True, False, False, False, False, True, False, False, False, False, False, True, False, False, True, False, False, True, True, False, True, False, False, False, False, False, False, True, False, True, True, False, False, True, False, False, False, False, False, False, True, False, False, False, True, False, False, True, True, False, False, False, False, False, False, False, False, False, False, True, False, True, False, False, False, True, True, False, True, True, True, False, True, False, False, False, False, False, True, False, False, False, False, False, False, False, False, True, False, True, False, True, False, False, True, True, False, False, True, False, False, False, False, False, False, False, False, False, False, False, True, False, False, True, False, False, True, False, False, False, True, True, False, True, False, False, False, True, False, True, False, False, False, True, False, False, True, False, False, False, False, False, False, False, True, False, False, False, False, True, False, False, False, True, False, False, False, False, False, False, False, False, False, False, True, False, True, True, True, False, True, True, False, False, False, True, False, True, False, False, False, False, False, False, False, False, False, False, True, False, False, False, False, True, True, False, False, False, False, False, False, True, False, True, False, False, False, False, False, False, False, False, True, True, False, False, False, False, False, True, False, False, False, False, False, False, True, False, False, True, False, False, False, False, False, True, True, False, False, False, False, True, True, False, False, False, False, True, True, True, False, False, True, False, False, False, False, True, False, False, True, False, False, True, False, False, False, False, False, False, True, False, False, False, False, False, False, True, False, True, False, False, False, False, False, True, False, False, True, False, True, False, False, True, True, False, False, False, True, True, True, False, False, True, False, False, False, True, False, False, False, False, False, False, False, False, False, False, False, False, True, False, True, False, False, True, False, False, True, True, False, True, False, False, False, False, True, False, True, False, False, False, True, False, False, False, True, False, True, False, False, True, True, False, True, False, False, False, True, False, False, False, False, False, False, True, False, False, False, True, False, True, False, False, False, False, False, True, True, False, False, True, False, True, True, True, True, False, False, False, False, False, True, True, False, False, False, True, False, True, False, False, True, False, False, False, False, False, True, False, False, True, True, False, False, False, False, True, False, False, False, False, True, False, False, True, False, False, False, False, False, False, False, False, True, True, True, True, False, False, False, False, True, False, True, False, False, True, False, False, True, True, False, False, False, False, False, False, False, False, False, True, True, True, True, True, False, False, False, False, False, False, True, False, False, False, False, False, True, False, False, False, True, True, False, False, True, False, False, False, True, False, False, False, False, False, True, False, True, False, True, False, True, False, False, False, True, True, True, False, True, False, False, True, False, True, False, True, False, True, False, True, True, False, False, False, True, False, False, False, True, False, True, False, True, False, False, True, False, False, False, True, True, True, True, False, True, False, True, True, False, False, False, False, False, True, False, True, False, False, False, False, True, False, False, False, False, True, False, True, False, False, False, False, True, False, False, False, False, True, False, False, True, False, False, False, False, True, True, False, False, False, True, False, False, False, False, False, False, True, False, True, False, True, False, False, False, False, False, True, False, False, True, True, True, False, False, False, False, False, True, False, False, True, False, True, False, False, True, True, False, False, False, True, True, True, True, False, True, False, False, False, False, False, False, False, True, False, True, True, False, False, False, True, False, True, False, True, False, False, False, False, False, True, False, False, False, False, True, False, True, True, True, False, False, False, False, False, False, True, True, True, False, False, False, False, False, False, False, True, False, False, False, False, True, True, False, False, True, False, True, False, False, True, False, False, False, False, False, False, False, False, False, False, True, False, False, False, False, False, False, False, False, False, False, False, False, False, False, True, False, False, True, False, False, False, False, False, True, False, False, False, True, False, False, False, True, False, False, False, False, False, True, False, False, True, False, False, True, False, False, False, False, False, False, True, False, True, True, True, False, False, False, True, False, False, False, False, True, False, False, False, True, True, False, False, True, False, False, False, False, False, False, True, False, False, False]\n",
            "source_nodes [   0    1    1 ... 3324 3325 3326]\n",
            "target_nodes [ 628  158 2919 ... 3324 3325 3326]\n",
            "nodes: [   0    1    2 ... 3324 3325 3326]\n",
            "num_classes: 6\n"
          ],
          "name": "stdout"
        }
      ]
    },
    {
      "cell_type": "code",
      "metadata": {
        "id": "fKifA3f5OQv2"
      },
      "source": [
        "def build_graph():\n",
        "\n",
        "  src = dataset['source_nodes']\n",
        "  dst = dataset['target_nodes']\n",
        "  u = np.concatenate([src, dst])\n",
        "  v = np.concatenate([dst, src])\n",
        "  \n",
        "  return DGLGraph((u, v))"
      ],
      "execution_count": null,
      "outputs": []
    },
    {
      "cell_type": "code",
      "metadata": {
        "id": "CJCkuHQLRomB",
        "outputId": "c7e762bc-9dee-4006-e55b-fe8ac937b2f8",
        "colab": {
          "base_uri": "https://localhost:8080/"
        }
      },
      "source": [
        "G = build_graph()\n",
        "print('number of nodes is :', G.number_of_nodes())\n",
        "print('number of edges is :', G.number_of_edges())"
      ],
      "execution_count": null,
      "outputs": [
        {
          "output_type": "stream",
          "text": [
            "number of nodes is : 3327\n",
            "number of edges is : 24862\n"
          ],
          "name": "stdout"
        },
        {
          "output_type": "stream",
          "text": [
            "/usr/local/lib/python3.6/dist-packages/dgl/base.py:45: DGLWarning: Recommend creating graphs by `dgl.graph(data)` instead of `dgl.DGLGraph(data)`.\n",
            "  return warnings.warn(message, category=category, stacklevel=1)\n"
          ],
          "name": "stderr"
        }
      ]
    },
    {
      "cell_type": "code",
      "metadata": {
        "id": "TvcaQnkcikxl",
        "outputId": "94b37489-f162-43be-ea68-08b76a8b90ef",
        "colab": {
          "base_uri": "https://localhost:8080/"
        }
      },
      "source": [
        "class Net(nn.Module):\n",
        "  def __init__(self):\n",
        "    super(Net, self).__init__()\n",
        "    lin1 = th.nn.Linear(3703, 30)\n",
        "    lin2 = th.nn.Linear(30, 6)\n",
        "    self.layer1 = GINConv(lin1, 'max')\n",
        "    self.layer2 = GINConv(lin2, 'max')\n",
        "\n",
        "  def forward(self, g, features):\n",
        "    x = F.relu(self.layer1(g, features))\n",
        "    x = self.layer2(g, x)\n",
        "    return x\n",
        "\n",
        "net = Net()\n",
        "print(net)"
      ],
      "execution_count": null,
      "outputs": [
        {
          "output_type": "stream",
          "text": [
            "Net(\n",
            "  (layer1): GINConv(\n",
            "    (apply_func): Linear(in_features=3703, out_features=30, bias=True)\n",
            "  )\n",
            "  (layer2): GINConv(\n",
            "    (apply_func): Linear(in_features=30, out_features=6, bias=True)\n",
            "  )\n",
            ")\n"
          ],
          "name": "stdout"
        }
      ]
    },
    {
      "cell_type": "code",
      "metadata": {
        "id": "kLSF6Y2uYJF6"
      },
      "source": [
        "def load_data():\n",
        "    data = dataset\n",
        "    features = th.FloatTensor(data['features'])\n",
        "    labels = th.LongTensor(data['labels'])\n",
        "    train_mask = th.BoolTensor(data['train_mask'])\n",
        "    val_mask = th.BoolTensor(data['val_mask'])\n",
        "    g = build_graph()\n",
        "    return g, features, labels, train_mask, val_mask"
      ],
      "execution_count": null,
      "outputs": []
    },
    {
      "cell_type": "code",
      "metadata": {
        "id": "yDTJ5fQjYMXu"
      },
      "source": [
        "def test(model, g, features, labels, mask):\n",
        "    model.eval()\n",
        "    with th.no_grad():\n",
        "        logits = model(g, features)\n",
        "        logits = logits[mask]\n",
        "        labels = labels[mask]\n",
        "        _, indices = th.max(logits, dim=1)\n",
        "        correct = th.sum(indices == labels)\n",
        "        return correct.item() * 1.0 / len(labels)"
      ],
      "execution_count": null,
      "outputs": []
    },
    {
      "cell_type": "code",
      "metadata": {
        "id": "Vnx5WFEJYSIA",
        "outputId": "01514dd2-1420-4d69-ed65-bfda7f611db2",
        "colab": {
          "base_uri": "https://localhost:8080/"
        }
      },
      "source": [
        "import time\n",
        "import numpy as np\n",
        "g, features, labels, train_mask, val_mask = load_data()\n",
        "\n",
        "def train():\n",
        "  optimizer = th.optim.Adam(net.parameters(), lr=1e-2)\n",
        "  dur = []\n",
        "  for epoch in range(50):\n",
        "      if epoch >=3:\n",
        "          t0 = time.time()\n",
        "      net.train()\n",
        "      logits = net(g, features)\n",
        "      logp = F.log_softmax(logits, 1)\n",
        "      loss = F.nll_loss(logp[train_mask], labels[train_mask])\n",
        "\n",
        "      optimizer.zero_grad()\n",
        "      loss.backward()\n",
        "      optimizer.step()\n",
        "\n",
        "      if epoch >=3:\n",
        "          dur.append(time.time() - t0)\n",
        "\n",
        "      acc = test(net, g, features, labels, val_mask)\n",
        "      print(\"Epoch {:05d} | Loss {:.4f} | Test Acc {:.4f} | Time(s) {:.4f}\".format(\n",
        "              epoch, loss.item(), acc, np.mean(dur)))\n",
        "  save_checkpoint(\"best_model.pth\", net)\n",
        "\n",
        "train()\n"
      ],
      "execution_count": null,
      "outputs": [
        {
          "output_type": "stream",
          "text": [
            "/usr/local/lib/python3.6/dist-packages/dgl/base.py:45: DGLWarning: Recommend creating graphs by `dgl.graph(data)` instead of `dgl.DGLGraph(data)`.\n",
            "  return warnings.warn(message, category=category, stacklevel=1)\n",
            "/usr/local/lib/python3.6/dist-packages/numpy/core/fromnumeric.py:3335: RuntimeWarning: Mean of empty slice.\n",
            "  out=out, **kwargs)\n",
            "/usr/local/lib/python3.6/dist-packages/numpy/core/_methods.py:161: RuntimeWarning: invalid value encountered in double_scalars\n",
            "  ret = ret.dtype.type(ret / rcount)\n"
          ],
          "name": "stderr"
        },
        {
          "output_type": "stream",
          "text": [
            "Epoch 00000 | Loss 1.7946 | Test Acc 0.3004 | Time(s) nan\n",
            "Epoch 00001 | Loss 1.7442 | Test Acc 0.4012 | Time(s) nan\n",
            "Epoch 00002 | Loss 1.6718 | Test Acc 0.5123 | Time(s) nan\n",
            "Epoch 00003 | Loss 1.5969 | Test Acc 0.5432 | Time(s) 0.3734\n",
            "Epoch 00004 | Loss 1.5242 | Test Acc 0.5514 | Time(s) 0.3717\n",
            "Epoch 00005 | Loss 1.4535 | Test Acc 0.5576 | Time(s) 0.3699\n",
            "Epoch 00006 | Loss 1.3821 | Test Acc 0.5967 | Time(s) 0.3681\n",
            "Epoch 00007 | Loss 1.3088 | Test Acc 0.6440 | Time(s) 0.3672\n",
            "Epoch 00008 | Loss 1.2346 | Test Acc 0.6914 | Time(s) 0.3683\n",
            "Epoch 00009 | Loss 1.1610 | Test Acc 0.7202 | Time(s) 0.3684\n",
            "Epoch 00010 | Loss 1.0902 | Test Acc 0.7346 | Time(s) 0.3682\n",
            "Epoch 00011 | Loss 1.0226 | Test Acc 0.7407 | Time(s) 0.3679\n",
            "Epoch 00012 | Loss 0.9574 | Test Acc 0.7531 | Time(s) 0.3675\n",
            "Epoch 00013 | Loss 0.8938 | Test Acc 0.7634 | Time(s) 0.3668\n",
            "Epoch 00014 | Loss 0.8321 | Test Acc 0.7675 | Time(s) 0.3669\n",
            "Epoch 00015 | Loss 0.7727 | Test Acc 0.7613 | Time(s) 0.3673\n",
            "Epoch 00016 | Loss 0.7163 | Test Acc 0.7654 | Time(s) 0.3668\n",
            "Epoch 00017 | Loss 0.6629 | Test Acc 0.7654 | Time(s) 0.3664\n",
            "Epoch 00018 | Loss 0.6122 | Test Acc 0.7695 | Time(s) 0.3670\n",
            "Epoch 00019 | Loss 0.5639 | Test Acc 0.7757 | Time(s) 0.3669\n",
            "Epoch 00020 | Loss 0.5179 | Test Acc 0.7798 | Time(s) 0.3673\n",
            "Epoch 00021 | Loss 0.4745 | Test Acc 0.7798 | Time(s) 0.3671\n",
            "Epoch 00022 | Loss 0.4338 | Test Acc 0.7778 | Time(s) 0.3674\n",
            "Epoch 00023 | Loss 0.3958 | Test Acc 0.7757 | Time(s) 0.3673\n",
            "Epoch 00024 | Loss 0.3604 | Test Acc 0.7778 | Time(s) 0.3677\n",
            "Epoch 00025 | Loss 0.3272 | Test Acc 0.7716 | Time(s) 0.3680\n",
            "Epoch 00026 | Loss 0.2960 | Test Acc 0.7716 | Time(s) 0.3679\n",
            "Epoch 00027 | Loss 0.2669 | Test Acc 0.7695 | Time(s) 0.3683\n",
            "Epoch 00028 | Loss 0.2399 | Test Acc 0.7654 | Time(s) 0.3686\n",
            "Epoch 00029 | Loss 0.2149 | Test Acc 0.7613 | Time(s) 0.3685\n",
            "Epoch 00030 | Loss 0.1921 | Test Acc 0.7572 | Time(s) 0.3684\n",
            "Epoch 00031 | Loss 0.1715 | Test Acc 0.7551 | Time(s) 0.3685\n",
            "Epoch 00032 | Loss 0.1530 | Test Acc 0.7572 | Time(s) 0.3686\n",
            "Epoch 00033 | Loss 0.1367 | Test Acc 0.7593 | Time(s) 0.3685\n",
            "Epoch 00034 | Loss 0.1223 | Test Acc 0.7572 | Time(s) 0.3684\n",
            "Epoch 00035 | Loss 0.1097 | Test Acc 0.7593 | Time(s) 0.3687\n",
            "Epoch 00036 | Loss 0.0986 | Test Acc 0.7551 | Time(s) 0.3687\n",
            "Epoch 00037 | Loss 0.0889 | Test Acc 0.7551 | Time(s) 0.3686\n",
            "Epoch 00038 | Loss 0.0805 | Test Acc 0.7510 | Time(s) 0.3687\n",
            "Epoch 00039 | Loss 0.0732 | Test Acc 0.7469 | Time(s) 0.3686\n",
            "Epoch 00040 | Loss 0.0669 | Test Acc 0.7469 | Time(s) 0.3687\n",
            "Epoch 00041 | Loss 0.0613 | Test Acc 0.7449 | Time(s) 0.3687\n",
            "Epoch 00042 | Loss 0.0563 | Test Acc 0.7449 | Time(s) 0.3690\n",
            "Epoch 00043 | Loss 0.0518 | Test Acc 0.7428 | Time(s) 0.3689\n",
            "Epoch 00044 | Loss 0.0477 | Test Acc 0.7449 | Time(s) 0.3690\n",
            "Epoch 00045 | Loss 0.0440 | Test Acc 0.7490 | Time(s) 0.3690\n",
            "Epoch 00046 | Loss 0.0406 | Test Acc 0.7490 | Time(s) 0.3690\n",
            "Epoch 00047 | Loss 0.0377 | Test Acc 0.7490 | Time(s) 0.3688\n",
            "Epoch 00048 | Loss 0.0350 | Test Acc 0.7490 | Time(s) 0.3689\n",
            "Epoch 00049 | Loss 0.0327 | Test Acc 0.7490 | Time(s) 0.3689\n",
            "model saved to best_model.pth\n"
          ],
          "name": "stdout"
        }
      ]
    },
    {
      "cell_type": "code",
      "metadata": {
        "id": "Hr1pZNgalWqQ"
      },
      "source": [
        "def save_checkpoint(checkpoint_path, model):\n",
        "    # state_dict: a Python dictionary object that:\n",
        "    # - for a model, maps each layer to its parameter tensor;\n",
        "    state = {'state_dict': model.state_dict()}\n",
        "    th.save(state, checkpoint_path)\n",
        "    print('model saved to %s' % checkpoint_path)"
      ],
      "execution_count": null,
      "outputs": []
    },
    {
      "cell_type": "code",
      "metadata": {
        "id": "4MePHgOolYDb"
      },
      "source": [
        "def load_checkpoint(checkpoint_path, model):\n",
        "    state = th.load(checkpoint_path)\n",
        "    model.load_state_dict(state['state_dict'])\n",
        "    print('model loaded from %s' % checkpoint_path)"
      ],
      "execution_count": null,
      "outputs": []
    },
    {
      "cell_type": "code",
      "metadata": {
        "id": "cTkqtER0lu2V",
        "outputId": "01072fe0-2a16-4769-ffde-5697b04d4383",
        "colab": {
          "base_uri": "https://localhost:8080/"
        }
      },
      "source": [
        "load_checkpoint(\"best_model.pth\", net)\n",
        "accuracy = test(net, g, features, labels, val_mask)\n",
        "# accuracy = test(net, g, features, labels, test_mask)   # test_mask here\n",
        "print(\"Testing Acc {:.4}\".format(accuracy))"
      ],
      "execution_count": null,
      "outputs": [
        {
          "output_type": "stream",
          "text": [
            "model loaded from best_model.pth\n",
            "Testing Acc 0.749\n"
          ],
          "name": "stdout"
        }
      ]
    }
  ]
}